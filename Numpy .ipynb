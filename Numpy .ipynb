{
 "cells": [
  {
   "cell_type": "code",
   "execution_count": 5,
   "id": "9ed7028d-13ed-4484-b4c4-7dd260ab24b4",
   "metadata": {},
   "outputs": [
    {
     "name": "stdout",
     "output_type": "stream",
     "text": [
      "The Python list:\n",
      " [1, 2, 3, 4, 5]\n",
      "The Numpy Array:\n",
      " [1 2 3 4 5]\n"
     ]
    }
   ],
   "source": [
    "import numpy as np\n",
    "#convert list to numpy array                              #17-03-2025\n",
    "list = [1, 2, 3, 4, 5]\n",
    "print(\"The Python list:\\n\", list)\n",
    "a = np.array(list)\n",
    "print(\"The Numpy Array:\\n\", a)"
   ]
  },
  {
   "cell_type": "code",
   "execution_count": 15,
   "id": "bd2e6845-230b-4e43-9a4d-29fc8202be16",
   "metadata": {},
   "outputs": [
    {
     "name": "stdout",
     "output_type": "stream",
     "text": [
      "[[0. 0. 0.]\n",
      " [0. 0. 0.]\n",
      " [0. 0. 0.]]\n",
      "(5,)\n"
     ]
    }
   ],
   "source": [
    "#create 3*3 numpy array with zeroes\n",
    "n=np.zeros((3,3))\n",
    "print(n)\n",
    "print(a.shape)"
   ]
  },
  {
   "cell_type": "code",
   "execution_count": 21,
   "id": "63f8e82b-2148-4c40-b50e-1ef285a3d9b0",
   "metadata": {},
   "outputs": [
    {
     "name": "stdout",
     "output_type": "stream",
     "text": [
      "[1 0 1 0 0]\n"
     ]
    }
   ],
   "source": [
    "#create an array of 5 numbers from 0 and 1\n",
    "n =np.array(np.random.randint(0,2,5))\n",
    "print(n)"
   ]
  },
  {
   "cell_type": "code",
   "execution_count": 23,
   "id": "cd57056e-0b38-457d-b683-374c80692904",
   "metadata": {},
   "outputs": [
    {
     "name": "stdout",
     "output_type": "stream",
     "text": [
      "[1 2 3 4 5 6]\n",
      "[[1 2 3]\n",
      " [4 5 6]]\n"
     ]
    }
   ],
   "source": [
    "#reshape an array\n",
    "arr = np.array([1,2,3,4,5,6])\n",
    "print(arr)\n",
    "reshaped_arr = arr.reshape(2,3)\n",
    "print(reshaped_arr)"
   ]
  },
  {
   "cell_type": "code",
   "execution_count": 25,
   "id": "63a52438-5715-4e04-be2f-e20f6e7c9117",
   "metadata": {},
   "outputs": [
    {
     "data": {
      "text/plain": [
       "[5, 7, 9]"
      ]
     },
     "execution_count": 25,
     "metadata": {},
     "output_type": "execute_result"
    }
   ],
   "source": [
    "#element wise addition\n",
    "[(a + b) for a,b in zip([1,2,3],[4,5,6])]"
   ]
  },
  {
   "cell_type": "code",
   "execution_count": 27,
   "id": "c7e07a44-b537-4878-9073-a52db2f2a828",
   "metadata": {},
   "outputs": [
    {
     "name": "stdout",
     "output_type": "stream",
     "text": [
      "[3 7 2 9 5]\n",
      "Maximum number in the array:\n",
      " 9\n",
      "Minimum number in the array:\n",
      " 2\n"
     ]
    }
   ],
   "source": [
    "#find max and min values\n",
    "arr = np.array([3,7,2,9,5])\n",
    "print(arr)\n",
    "print(\"Maximum number in the array:\\n\", np.max(arr))\n",
    "print(\"Minimum number in the array:\\n\", np.min(arr))"
   ]
  },
  {
   "cell_type": "code",
   "execution_count": 29,
   "id": "847c81de-00ca-402c-8950-73ba774af5e9",
   "metadata": {},
   "outputs": [
    {
     "name": "stdout",
     "output_type": "stream",
     "text": [
      "[10 20 30 40 50]\n",
      "The mean of an array:\n",
      " 30.0\n",
      "The standard deviation of an array:\n",
      " 14.142135623730951\n"
     ]
    }
   ],
   "source": [
    "#mean and standard deviation\n",
    "n = np.array([10,20,30,40,50])\n",
    "print(n)\n",
    "print(\"The mean of an array:\\n\", np.mean(n))\n",
    "print(\"The standard deviation of an array:\\n\", np.std(n))"
   ]
  },
  {
   "cell_type": "code",
   "execution_count": 35,
   "id": "50fbed35-4819-4645-8f74-3e8fee075c09",
   "metadata": {},
   "outputs": [
    {
     "name": "stdout",
     "output_type": "stream",
     "text": [
      "[1 3 5 7 9]\n",
      "5 7 9 "
     ]
    }
   ],
   "source": [
    "#filter elements greater than 4 in an array\n",
    "n = np.array([1,3,5,7,9])\n",
    "print(n)\n",
    "for num in n:\n",
    "    if(num>4):\n",
    "        print(num,end=\" \")"
   ]
  },
  {
   "cell_type": "code",
   "execution_count": 37,
   "id": "462c0b66-04f9-4f0e-b9b5-fc3b73949b0a",
   "metadata": {},
   "outputs": [
    {
     "name": "stdout",
     "output_type": "stream",
     "text": [
      "[[19 22]\n",
      " [43 50]]\n",
      "[[19 22]\n",
      " [43 50]]\n"
     ]
    }
   ],
   "source": [
    "#multiply both arrays\n",
    "a = np.array([[1,2],[3,4]])\n",
    "s = np.array([[5,6],[7,8]])\n",
    "print(np.matmul(a,s))   #matmul --> multiplication keyword\n",
    "print(a@s)   # @ --> multiplication keyword(symbol)"
   ]
  },
  {
   "cell_type": "code",
   "execution_count": 41,
   "id": "39d439b2-61c2-4401-b5c7-2690708905c8",
   "metadata": {},
   "outputs": [
    {
     "name": "stdout",
     "output_type": "stream",
     "text": [
      "[3 1 3 2 2 2 2 3 1 1]\n"
     ]
    }
   ],
   "source": [
    "#create an array numbers from 1 to 10\n",
    "n = np.array(np.random.randint(1,4,10))\n",
    "print(n)"
   ]
  },
  {
   "cell_type": "code",
   "execution_count": null,
   "id": "472b5ccf-394c-433f-b04c-f6cbe6092a8e",
   "metadata": {},
   "outputs": [],
   "source": []
  }
 ],
 "metadata": {
  "kernelspec": {
   "display_name": "Python 3 (ipykernel)",
   "language": "python",
   "name": "python3"
  },
  "language_info": {
   "codemirror_mode": {
    "name": "ipython",
    "version": 3
   },
   "file_extension": ".py",
   "mimetype": "text/x-python",
   "name": "python",
   "nbconvert_exporter": "python",
   "pygments_lexer": "ipython3",
   "version": "3.12.7"
  }
 },
 "nbformat": 4,
 "nbformat_minor": 5
}
