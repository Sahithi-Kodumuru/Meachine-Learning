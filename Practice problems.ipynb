{
 "cells": [
  {
   "cell_type": "code",
   "execution_count": 1,
   "id": "4d473aa8-857d-4643-8601-7b3c61e0e69a",
   "metadata": {},
   "outputs": [
    {
     "name": "stdout",
     "output_type": "stream",
     "text": [
      "f(2) = 6\n",
      "f(-1) = -6\n",
      "f(1) = 0\n"
     ]
    }
   ],
   "source": [
    "#find the value of a function f(x)=x^2+3x-4, at a=2,-1,1\n",
    "def f(x):\n",
    "    return x**2 + 3*x - 4\n",
    "values = [f(2), f(-1), f(1)]\n",
    "print(\"f(2) =\", values[0])\n",
    "print(\"f(-1) =\", values[1])\n",
    "print(\"f(1) =\", values[2])"
   ]
  },
  {
   "cell_type": "code",
   "execution_count": 4,
   "id": "16f6efef-269e-4465-901b-4c8701a23b82",
   "metadata": {},
   "outputs": [
    {
     "name": "stdout",
     "output_type": "stream",
     "text": [
      "{2: False, -1: True, 1: True}\n"
     ]
    }
   ],
   "source": [
    "#2\n",
    "def f(x):\n",
    "    return x**2 - 1\n",
    "values_to_check = [2,-1, 1]\n",
    "roots_check = {x: f(x) == 0 for x in values_to_check}\n",
    "print(roots_check)"
   ]
  },
  {
   "cell_type": "code",
   "execution_count": null,
   "id": "a6d5b165-8817-4a54-85af-ef06ff81debd",
   "metadata": {},
   "outputs": [],
   "source": [
    "                                             ####STRING ASSIGNMENT####"
   ]
  },
  {
   "cell_type": "code",
   "execution_count": 3,
   "id": "e1c3f4a6-343d-4186-a2c4-d44ec2972956",
   "metadata": {},
   "outputs": [
    {
     "name": "stdin",
     "output_type": "stream",
     "text": [
      "Enter the Sentence:\n",
      " Wikipedia is a free online encyclopedia, crated by volunteers around the world and hosted by the wekipedia foundation.\n"
     ]
    },
    {
     "name": "stdout",
     "output_type": "stream",
     "text": [
      "The number of words in the given sentence is: 18\n"
     ]
    }
   ],
   "source": [
    "#1  Find the number of words in the sentence                   19-03-2025\n",
    "sen = input(\"Enter the Sentence:\\n\")\n",
    "words = sen.split()\n",
    "word_count = len(words)\n",
    "print(f\"The number of words in the given sentence is: {word_count}\")"
   ]
  },
  {
   "cell_type": "code",
   "execution_count": 5,
   "id": "34e4a6fe-6a51-4e02-9d8b-30eeb1871925",
   "metadata": {},
   "outputs": [
    {
     "name": "stdin",
     "output_type": "stream",
     "text": [
      "Enter a number:  4\n"
     ]
    },
    {
     "name": "stdout",
     "output_type": "stream",
     "text": [
      "The corresponding string hypens is: ----\n"
     ]
    }
   ],
   "source": [
    "#2 write a python code\n",
    "number = int(input(\"Enter a number: \"))\n",
    "hypens = '-' * number\n",
    "print(f\"The corresponding string hypens is: {hypens}\")"
   ]
  },
  {
   "cell_type": "code",
   "execution_count": 7,
   "id": "26bc92d2-8af8-4665-9267-6765fd515f1d",
   "metadata": {},
   "outputs": [
    {
     "name": "stdin",
     "output_type": "stream",
     "text": [
      "Enter the sentence:  i am sahithi.\n"
     ]
    },
    {
     "name": "stdout",
     "output_type": "stream",
     "text": [
      "The string is NOT a safe bridge.\n"
     ]
    }
   ],
   "source": [
    "#3 find the given sentence is safe bridge or not.\n",
    "bridge = input(\"Enter the sentence: \")\n",
    "if \" \" in bridge:\n",
    "    print(\"The string is NOT a safe bridge.\")\n",
    "else:\n",
    "    print(\"The sentence is safe bridge.\")"
   ]
  },
  {
   "cell_type": "code",
   "execution_count": 17,
   "id": "fca5a501-94d7-49ab-b5c3-b38c888d7d1f",
   "metadata": {},
   "outputs": [
    {
     "name": "stdout",
     "output_type": "stream",
     "text": [
      "The number of occurances of 'D' is: 3\n"
     ]
    }
   ],
   "source": [
    "#4 count the specific letter\n",
    "user_string = 'Debris was scattereD all over the place in the sensest region of Denmark.'\n",
    "uppercase_string = user_string.upper()\n",
    "count_D = uppercase_string.count('D')\n",
    "print(f\"The number of occurances of 'D' is: {count_D}\")"
   ]
  },
  {
   "cell_type": "code",
   "execution_count": null,
   "id": "45185f6a-4b65-48df-89bc-31fd429be667",
   "metadata": {},
   "outputs": [],
   "source": [
    "#5 palindrome or not\n",
    "def is_palindrome(value):\n",
    "    string_value = str(value)\n",
    "    return string_value == string[::-1]\n",
    "user_input = input(\"Enter a number or a word: \")\n",
    "if is_palindrome(user_input):\n",
    "    print(f\" '{user_input}' is a Palindrome.\")\n",
    "else:\n",
    "    print(f\" '{user_input}' is not a palindrome.\")"
   ]
  },
  {
   "cell_type": "code",
   "execution_count": null,
   "id": "de1bedd7-d8e0-43e0-b194-6c24a664a8b9",
   "metadata": {},
   "outputs": [],
   "source": []
  }
 ],
 "metadata": {
  "kernelspec": {
   "display_name": "Python 3 (ipykernel)",
   "language": "python",
   "name": "python3"
  },
  "language_info": {
   "codemirror_mode": {
    "name": "ipython",
    "version": 3
   },
   "file_extension": ".py",
   "mimetype": "text/x-python",
   "name": "python",
   "nbconvert_exporter": "python",
   "pygments_lexer": "ipython3",
   "version": "3.12.7"
  }
 },
 "nbformat": 4,
 "nbformat_minor": 5
}
