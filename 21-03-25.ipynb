{
 "cells": [
  {
   "cell_type": "code",
   "execution_count": 2,
   "id": "6241ba0c-ba25-4a9e-9784-2b532bc84c39",
   "metadata": {},
   "outputs": [
    {
     "name": "stdout",
     "output_type": "stream",
     "text": [
      "34\n"
     ]
    }
   ],
   "source": [
    "#CALCULATION OF MODE\n",
    "import numpy as np\n",
    "import statistics\n",
    "temp=np.array([34,40,29,33,42,40,39,34,34,33])\n",
    "mode = statistics.mode(temp)             # mode is like how many number of repetions are to be calculated.\n",
    "print(mode)"
   ]
  },
  {
   "cell_type": "code",
   "execution_count": 7,
   "id": "3f6a15d4-08a2-41e8-aef8-808914049996",
   "metadata": {},
   "outputs": [
    {
     "name": "stdout",
     "output_type": "stream",
     "text": [
      "[(10, 20, 30), (30, 40, 50), (50, 60, 70)]\n",
      "The replaced list of last element:\n",
      " [(10, 20, 30), (30, 40, 50), (50, 60, 25)]\n"
     ]
    }
   ],
   "source": [
    "# Replace the last element of the last list\n",
    "list_of_tuples = [(10,20,30),(30,40,50),(50,60,70)]\n",
    "print(list_of_tuples)\n",
    "list_of_tuples[-1] = list_of_tuples[-1][:-1] + (25,)\n",
    "print(\"The replaced list of last element:\\n\",list_of_tuples)"
   ]
  },
  {
   "cell_type": "code",
   "execution_count": null,
   "id": "2b98f128-66e3-41fd-9f40-2515a91c5283",
   "metadata": {},
   "outputs": [],
   "source": [
    "#3\n",
    "emp_dict = {'Name': 'Anand Sai', 'Skills': ['Python','ML','DL'],'Bond':6.0,'Promotion year': [2016,2018,2020]}\n",
    "if \"Employee ID\" in emp_dict:\n",
    "    print(\"An Employee ID is present in the dictonary.\")\n",
    "else:\n",
    "    print(\"Not "
   ]
  }
 ],
 "metadata": {
  "kernelspec": {
   "display_name": "Python 3 (ipykernel)",
   "language": "python",
   "name": "python3"
  },
  "language_info": {
   "codemirror_mode": {
    "name": "ipython",
    "version": 3
   },
   "file_extension": ".py",
   "mimetype": "text/x-python",
   "name": "python",
   "nbconvert_exporter": "python",
   "pygments_lexer": "ipython3",
   "version": "3.12.8"
  }
 },
 "nbformat": 4,
 "nbformat_minor": 5
}
