{
 "cells": [
  {
   "cell_type": "code",
   "execution_count": 1,
   "id": "3387efed-7a21-4d6e-ae3a-42c8ec5015c0",
   "metadata": {},
   "outputs": [
    {
     "name": "stdout",
     "output_type": "stream",
     "text": [
      "Updated temperatures: [34, 40, 29, 42, 23, 37, 39]\n"
     ]
    }
   ],
   "source": [
    "#1 swap the highest and lowest temperatures                   20-03-2025\n",
    "import numpy as np\n",
    "import pandas as pd\n",
    "temp = [34, 40, 29, 23, 42, 37, 39]\n",
    "max_index = temp.index(max(temp))\n",
    "min_index = temp.index(min(temp))\n",
    "temp[max_index], temp[min_index] = temp[min_index], temp[max_index]\n",
    "print(\"Updated temperatures:\", temp)"
   ]
  },
  {
   "cell_type": "code",
   "execution_count": 3,
   "id": "0e30d58c-e0a9-45b2-8085-634f4cbdf40b",
   "metadata": {},
   "outputs": [
    {
     "name": "stdout",
     "output_type": "stream",
     "text": [
      "[  400   250   800   550   600   820   720 15000   360   250]\n",
      "The Mean of the Product Price is:  1975.0\n",
      "The median of the Product Price is:  575.0\n"
     ]
    }
   ],
   "source": [
    "#2 calculate mean and median\n",
    "n = np.array([400,250,800,550,600,820,720,15000,360,250])\n",
    "print(n)\n",
    "print(\"The Mean of the Product Price is: \", np.mean(n))\n",
    "print(\"The median of the Product Price is: \", np.median(n))"
   ]
  },
  {
   "cell_type": "code",
   "execution_count": 9,
   "id": "7d097fc9-4957-4396-bbf2-7a0471f7bc48",
   "metadata": {},
   "outputs": [
    {
     "name": "stdout",
     "output_type": "stream",
     "text": [
      "['Qualcomm', 'Google', 'Apple', ['Nuidie', 'Cisco', 'Samsung']]\n",
      "Correct tech companies: ['Qualcomm', 'Google', 'Apple', 'Nuidie', 'Cisco', 'Samsung']\n"
     ]
    }
   ],
   "source": [
    "#3\n",
    "tech_companies = ['Qualcomm', 'Google', 'Apple', ['Nuidie', 'Cisco', 'Samsung']]\n",
    "print(tech_companies)\n",
    "correct_tech_companies = []\n",
    "for company in tech_companies:\n",
    "    if isinstance(company, list):\n",
    "        correct_tech_companies.extend(company)\n",
    "    else:\n",
    "        correct_tech_companies.append(company)\n",
    "print(\"Correct tech companies:\", correct_tech_companies)"
   ]
  },
  {
   "cell_type": "code",
   "execution_count": null,
   "id": "55341c5c-bf48-482a-92a6-ef0ad8f96547",
   "metadata": {},
   "outputs": [],
   "source": []
  }
 ],
 "metadata": {
  "kernelspec": {
   "display_name": "Python 3 (ipykernel)",
   "language": "python",
   "name": "python3"
  },
  "language_info": {
   "codemirror_mode": {
    "name": "ipython",
    "version": 3
   },
   "file_extension": ".py",
   "mimetype": "text/x-python",
   "name": "python",
   "nbconvert_exporter": "python",
   "pygments_lexer": "ipython3",
   "version": "3.12.7"
  }
 },
 "nbformat": 4,
 "nbformat_minor": 5
}
