{
 "cells": [
  {
   "cell_type": "code",
   "execution_count": 1,
   "id": "4e0c2d5e-3266-4203-8a56-286e19df95cd",
   "metadata": {},
   "outputs": [
    {
     "name": "stdin",
     "output_type": "stream",
     "text": [
      "Enter Number of matches Playes:  9\n",
      "Enter Matches won:  4\n",
      "Enter Matches loss:  3\n",
      "Enter Matches Draw:  2\n"
     ]
    },
    {
     "name": "stdout",
     "output_type": "stream",
     "text": [
      "14\n"
     ]
    }
   ],
   "source": [
    "#13-03-2025\n",
    "#Tournament is going on in that one of the team plays 9matches out of 9matches they won 4, 3 loss and 2 draw.   \n",
    "total_matches = int(input('Enter Number of matches Playes: '))\n",
    "won_matches = int(input('Enter Matches won: '))\n",
    "loss_matches = int(input('Enter Matches loss: '))\n",
    "draw_matches = int(input('Enter Matches Draw: '))\n",
    "total_points = (3*(won_matches) + 0*(loss_matches) + 1*(draw_matches))\n",
    "print(total_points)"
   ]
  },
  {
   "cell_type": "code",
   "execution_count": 13,
   "id": "13888cde-ea99-4f70-a5df-506226609649",
   "metadata": {},
   "outputs": [
    {
     "name": "stdin",
     "output_type": "stream",
     "text": [
      "Enter the quantity of rasin:  50\n",
      "Enter the quantity of almond:  60\n",
      "Enter the quantity of apricot:  20\n"
     ]
    },
    {
     "name": "stdout",
     "output_type": "stream",
     "text": [
      "38.46153846153847\n",
      "46.15384615384615\n",
      "15.384615384615385\n"
     ]
    }
   ],
   "source": [
    "#Protien bar \n",
    "rasin = int(input('Enter the quantity of rasin: '))\n",
    "almond = int(input('Enter the quantity of almond: '))\n",
    "apricot = int(input('Enter the quantity of apricot: '))\n",
    "total_weight = rasin + almond + apricot\n",
    "rasin_perc = (rasin/total_weight)*100\n",
    "print(rasin_perc)\n",
    "almond_perc = (almond/total_weight)*100\n",
    "print(almond_perc)\n",
    "apricot_perc = (apricot/total_weight)*100\n",
    "print(apricot_perc)"
   ]
  },
  {
   "cell_type": "code",
   "execution_count": 19,
   "id": "6e007bfa-b464-44a9-8d9c-b18d707cfb1a",
   "metadata": {},
   "outputs": [
    {
     "name": "stdin",
     "output_type": "stream",
     "text": [
      "Enter the number:  12\n"
     ]
    },
    {
     "name": "stdout",
     "output_type": "stream",
     "text": [
      "Even\n"
     ]
    }
   ],
   "source": [
    "n = int(input('Enter the number: '))\n",
    "if(n%2==0):\n",
    "    print('Even')\n",
    "else:\n",
    "    print('Odd')"
   ]
  },
  {
   "cell_type": "code",
   "execution_count": 23,
   "id": "d84caf5f-f319-416f-a5eb-49ac766277bc",
   "metadata": {},
   "outputs": [
    {
     "name": "stdin",
     "output_type": "stream",
     "text": [
      "Enter your age:  20\n"
     ]
    },
    {
     "name": "stdout",
     "output_type": "stream",
     "text": [
      "You are Eligible to Vote.\n"
     ]
    }
   ],
   "source": [
    "age = int(input('Enter your age: '))\n",
    "if(age>18):\n",
    "    print('You are Eligible to Vote.')\n",
    "else:\n",
    "    print('Not Eligible to Vote.')"
   ]
  },
  {
   "cell_type": "code",
   "execution_count": 31,
   "id": "6a64fd9a-a1f4-4217-9109-e45676e46bfc",
   "metadata": {},
   "outputs": [
    {
     "name": "stdin",
     "output_type": "stream",
     "text": [
      "Enter the number:  15\n"
     ]
    },
    {
     "name": "stdout",
     "output_type": "stream",
     "text": [
      "It is not a prime.\n",
      "It is a consecutive number.\n"
     ]
    }
   ],
   "source": [
    "#prime number or not\n",
    "n = int(input('Enter the number: '))\n",
    "flag = 0\n",
    "for i in range(2,n):\n",
    "    if(n%i==0):\n",
    "        print('It is not a prime.')\n",
    "        flag=0\n",
    "        break\n",
    "    else:\n",
    "        flag=1\n",
    "if(flag==1):\n",
    "    print('It is prime number.')\n",
    "else:\n",
    "    print('It is a consecutive number.')"
   ]
  },
  {
   "cell_type": "code",
   "execution_count": 33,
   "id": "dc1a40bc-041a-48d6-b444-d682b2fb7755",
   "metadata": {},
   "outputs": [
    {
     "name": "stdin",
     "output_type": "stream",
     "text": [
      " 10\n",
      " 11\n"
     ]
    },
    {
     "name": "stdout",
     "output_type": "stream",
     "text": [
      "11\n"
     ]
    }
   ],
   "source": [
    "num1=int(input())\n",
    "num2=int(input())\n",
    "if(num1>num2):\n",
    "    print(num1)\n",
    "else:\n",
    "    print(num2)"
   ]
  },
  {
   "cell_type": "code",
   "execution_count": 41,
   "id": "9d033816-c934-493f-97d8-b0acd111eaf1",
   "metadata": {},
   "outputs": [
    {
     "name": "stdin",
     "output_type": "stream",
     "text": [
      "Enter the number:  15\n"
     ]
    },
    {
     "name": "stdout",
     "output_type": "stream",
     "text": [
      "Number is Positive.\n"
     ]
    }
   ],
   "source": [
    "num=int(input('Enter the number: '))\n",
    "if(num>0):\n",
    "    print('Number is Positive.')\n",
    "elif(num<0):\n",
    "    print('Number is Negative.')\n",
    "else:\n",
    "    print('Number is Zero.')"
   ]
  },
  {
   "cell_type": "code",
   "execution_count": 37,
   "id": "dc12b15e-cf73-4be8-9846-fd4b6cffdd6c",
   "metadata": {},
   "outputs": [
    {
     "name": "stdin",
     "output_type": "stream",
     "text": [
      " 15\n"
     ]
    },
    {
     "name": "stdout",
     "output_type": "stream",
     "text": [
      "Number is Divisible by 5.\n"
     ]
    }
   ],
   "source": [
    "num=int(input())\n",
    "if(num%5==0):\n",
    "    print('Number is Divisible by 5.')\n",
    "else:\n",
    "    print('Number is Not Divisible by 5.')"
   ]
  },
  {
   "cell_type": "code",
   "execution_count": 47,
   "id": "6f294ffb-1d98-4e58-b960-4e2bd50f0ae7",
   "metadata": {},
   "outputs": [
    {
     "name": "stdin",
     "output_type": "stream",
     "text": [
      "Enter the number:  15\n",
      "Enter the number:  20\n",
      "Enter the number:  7\n"
     ]
    },
    {
     "name": "stdout",
     "output_type": "stream",
     "text": [
      "Number a2 is Greatest of among three numbers.\n"
     ]
    }
   ],
   "source": [
    "#greatest among three\n",
    "a1=int(input('Enter the number: '))\n",
    "a2=int(input('Enter the number: '))\n",
    "a3=int(input('Enter the number: '))\n",
    "if((a1>a2) and (a1>a3)):\n",
    "    print('Number a1 is Greatest of among three numbers.')\n",
    "elif((a2>a1) and (a2>a3)):\n",
    "    print('Number a2 is Greatest of among three numbers.')\n",
    "else:\n",
    "    print('Number a3 is Greatest of among three numbers.')"
   ]
  },
  {
   "cell_type": "code",
   "execution_count": 53,
   "id": "a3f7b048-f48e-43ad-b63b-74234215f749",
   "metadata": {},
   "outputs": [
    {
     "name": "stdin",
     "output_type": "stream",
     "text": [
      "Enter the Current Balence:  50000.68\n",
      "Enter the amount to Withdraw:  8075\n"
     ]
    },
    {
     "name": "stdout",
     "output_type": "stream",
     "text": [
      "The current balence after withdrawal is:  41925.68\n"
     ]
    }
   ],
   "source": [
    "#ATM\n",
    "account_balence = float(input('Enter the Current Balence: '))\n",
    "withdraw_amount = int(input('Enter the amount to Withdraw: '))\n",
    "remaining_balence = account_balence - withdraw_amount\n",
    "if(withdraw_amount > account_balence):\n",
    "    print('Insufficient Account Balence')\n",
    "else:\n",
    "    print('The current balence after withdrawal is: ',remaining_balence)"
   ]
  },
  {
   "cell_type": "code",
   "execution_count": 1,
   "id": "13db98bd-6e4d-41d2-90e6-81867d0e4ff7",
   "metadata": {},
   "outputs": [],
   "source": [
    "import numpy as np                                             #13-03-2025"
   ]
  },
  {
   "cell_type": "code",
   "execution_count": 3,
   "id": "f47001e7-6efc-4e68-aa74-78437c46edde",
   "metadata": {},
   "outputs": [
    {
     "name": "stdout",
     "output_type": "stream",
     "text": [
      "[2 3 4 5 6 7]\n"
     ]
    }
   ],
   "source": [
    "arr = np.array([2,3,4,5,6,7])\n",
    "print(arr)"
   ]
  },
  {
   "cell_type": "code",
   "execution_count": 13,
   "id": "42ef403a-64eb-4475-a2de-03986aba2136",
   "metadata": {},
   "outputs": [
    {
     "name": "stdout",
     "output_type": "stream",
     "text": [
      "[[1 2 3]\n",
      " [2 3 4]]\n"
     ]
    }
   ],
   "source": [
    "#2D Array is a comination od 2 1d arrays\n",
    "arr = np.array([[1,2,3],[2,3,4]])\n",
    "print(arr)"
   ]
  },
  {
   "cell_type": "code",
   "execution_count": 15,
   "id": "99ec4019-587d-43df-8d85-99888303d0f2",
   "metadata": {},
   "outputs": [
    {
     "name": "stdout",
     "output_type": "stream",
     "text": [
      "[[[10 11 12]\n",
      "  [23 34 45]]\n",
      "\n",
      " [[21 65 56]\n",
      "  [54 76 89]]]\n"
     ]
    }
   ],
   "source": [
    "#3D Array is a combination of 2 2d arrays\n",
    "arr = np.array([[[10,11,12],[23,34,45]],[[21,65,56],[54,76,89]]])\n",
    "print(arr)"
   ]
  },
  {
   "cell_type": "code",
   "execution_count": 19,
   "id": "07bba86b-7211-4956-8c61-4c652edcf366",
   "metadata": {},
   "outputs": [
    {
     "name": "stdout",
     "output_type": "stream",
     "text": [
      "Size of each element of list in python:  136\n",
      "10\n"
     ]
    }
   ],
   "source": [
    "import numpy as np\n",
    "import sys\n",
    "s=[10,20,30,40,50,60,70,80,90,100]\n",
    "print(\"Size of each element of list in python: \", sys.getsizeof(s))\n",
    "\n",
    "b=np.array([10,20,30,40,50,60,70,80,90,100])\n",
    "print(np.size(b))"
   ]
  },
  {
   "cell_type": "code",
   "execution_count": 21,
   "id": "ffed0541-017e-4008-902d-763d112895c1",
   "metadata": {},
   "outputs": [
    {
     "data": {
      "text/plain": [
       "[4, 10, 18]"
      ]
     },
     "execution_count": 21,
     "metadata": {},
     "output_type": "execute_result"
    }
   ],
   "source": [
    "[(a * b) for a,b in zip([1,2,3],[4,5,6])]"
   ]
  },
  {
   "cell_type": "code",
   "execution_count": 7,
   "id": "4e712175-0108-495a-ad9a-37c2c7c3ca49",
   "metadata": {},
   "outputs": [
    {
     "name": "stdout",
     "output_type": "stream",
     "text": [
      "The 1D Array: \n",
      "[1 2]\n",
      "\n",
      "\n",
      "The 2D Array: \n",
      "[[11 12]\n",
      " [13 14]]\n",
      "\n",
      "\n",
      "The 3D Array: \n",
      "[[[11 12 13]\n",
      "  [14 15 16]]\n",
      "\n",
      " [[17 18 19]\n",
      "  [20 21 22]]]\n"
     ]
    }
   ],
   "source": [
    "import numpy as np                                                                                         #14-03-2025\n",
    "sai1=np.array([1,2])\n",
    "sai2=np.array([[11,12],[13,14]])\n",
    "sai3=np.array([[[11,12,13],[14,15,16]],[[17,18,19],[20,21,22]]])\n",
    "print('The 1D Array: ')\n",
    "print(sai1)\n",
    "print('\\n')\n",
    "print('The 2D Array: ')\n",
    "print(sai2)\n",
    "print('\\n')\n",
    "print('The 3D Array: ')\n",
    "print(sai3)"
   ]
  },
  {
   "cell_type": "code",
   "execution_count": null,
   "id": "8358fe04-ee6b-4057-abe3-3103416afddc",
   "metadata": {},
   "outputs": [],
   "source": [
    "#Array Manipulations\n",
    "np.transpose(array) --> to transpose an array\n",
    ">>transpose()\n",
    "It is an operator which flips a matrix over its diagonal, it switches the row and column indies of the matrix.It producing the another matrix i.e., A^T."
   ]
  },
  {
   "cell_type": "code",
   "execution_count": 66,
   "id": "cfb25030-a402-4ec9-a624-8d7dadd8bf6b",
   "metadata": {},
   "outputs": [
    {
     "name": "stdout",
     "output_type": "stream",
     "text": [
      "Original Array:\n",
      " [[1 2]\n",
      " [3 4]]\n",
      "Transposed Array:\n",
      " [[1 3]\n",
      " [2 4]]\n"
     ]
    }
   ],
   "source": [
    "import numpy as np\n",
    "n = np.array([[1, 2],[3, 4]])\n",
    "print('Original Array:\\n',n)\n",
    "s = np.transpose(n)\n",
    "print('Transposed Array:\\n',s)"
   ]
  },
  {
   "cell_type": "code",
   "execution_count": 92,
   "id": "2504f527-3c21-41ab-a7f1-0c9ccd4bcd45",
   "metadata": {},
   "outputs": [
    {
     "name": "stdout",
     "output_type": "stream",
     "text": [
      "The Original Array:\n",
      " [80 21 32 20  3 87]\n",
      "The Reshaped Array:\n",
      "[[80 21]\n",
      " [32 20]\n",
      " [ 3 87]]\n"
     ]
    }
   ],
   "source": [
    "#reshape an array\n",
    "n = np.array([80, 21, 32, 20, 3, 87])\n",
    "print('The Original Array:\\n',n)\n",
    "print('The Reshaped Array:')\n",
    "s = n.reshape(3,2)\n",
    "print(s)"
   ]
  },
  {
   "cell_type": "code",
   "execution_count": 86,
   "id": "dc51fc40-1544-4ada-982c-620832fa976a",
   "metadata": {},
   "outputs": [
    {
     "name": "stdout",
     "output_type": "stream",
     "text": [
      "The Original Array:\n",
      " [ 1  2  3  4  5  6  7  8  9 10 11 12]\n",
      "The Reshaped Array:\n",
      " [[ 1  2  3  4]\n",
      " [ 5  6  7  8]\n",
      " [ 9 10 11 12]]\n"
     ]
    }
   ],
   "source": [
    "#Reshape an Array\n",
    "arr = np.array([1, 2, 3, 4, 5, 6, 7, 8, 9, 10, 11, 12])\n",
    "print('The Original Array:\\n', arr)\n",
    "reshaped_arr = arr.reshape(3, 4)\n",
    "print('The Reshaped Array:\\n', reshaped_arr)"
   ]
  },
  {
   "cell_type": "code",
   "execution_count": 96,
   "id": "ae24d871-db1c-40e7-8245-60842c37145d",
   "metadata": {},
   "outputs": [
    {
     "name": "stdout",
     "output_type": "stream",
     "text": [
      "The Original Array:\n",
      " [80 21 32 20  3 87]\n",
      "Resized Array: \n",
      "[[80 21]\n",
      " [32 20]\n",
      " [ 3 87]]\n"
     ]
    }
   ],
   "source": [
    "#Resize an Array\n",
    "n = np.array([80, 21, 32, 20, 3, 87])\n",
    "print('The Original Array:\\n',n)\n",
    "print('Resized Array: ')\n",
    "resize = np.resize(n, (3,2))\n",
    "print(resize)"
   ]
  },
  {
   "cell_type": "code",
   "execution_count": null,
   "id": "9e261b52-99e0-443a-a99b-02f3c5628cf8",
   "metadata": {},
   "outputs": [],
   "source": [
    "#Flatten Array\n"
   ]
  },
  {
   "cell_type": "code",
   "execution_count": null,
   "id": "6cbc652b-7285-420f-a92f-09a99788134e",
   "metadata": {},
   "outputs": [],
   "source": [
    "#NumpY Operatins in Python\n",
    "np.insret() --> To insert an array\n",
    "np.delete() --> delete an element from an array\n",
    "np.append() --> append items to an array\n",
    "np.unique() --> To get unique items from an array"
   ]
  },
  {
   "cell_type": "code",
   "execution_count": null,
   "id": "f19ceb71-42a3-4606-8e64-df9a5e1e7217",
   "metadata": {},
   "outputs": [],
   "source": [
    "#INSERT to array\n",
    "np.insert(arr,obj,values,axis) --> syntax\n",
    "arr: Input Array\n",
    "obj: The index before which insertion is to be made\n",
    "values: The array of values to be inserted\n",
    "axis: The axis along insert in given array, if not given, arr is flattend."
   ]
  },
  {
   "cell_type": "code",
   "execution_count": 100,
   "id": "362ae45f-e784-4030-8740-180eba1dd9f7",
   "metadata": {},
   "outputs": [
    {
     "name": "stdout",
     "output_type": "stream",
     "text": [
      "[[[12 19 14 13]\n",
      "  [17 10 10 16]\n",
      "  [10 16 19 19]]\n",
      "\n",
      " [[11 15 14 16]\n",
      "  [16 17 19 11]\n",
      "  [11 17 19 11]]]\n",
      "The Shape of an array: \n",
      " (2, 3, 4)\n"
     ]
    }
   ],
   "source": [
    "#create an array\n",
    "a = np.random.randint(10,20,(2,3,4))\n",
    "print(a)\n",
    "print('The Shape of an array: \\n', a.shape)"
   ]
  },
  {
   "cell_type": "code",
   "execution_count": 108,
   "id": "ee768018-6cd6-48c2-b17e-440eab94aa93",
   "metadata": {},
   "outputs": [
    {
     "data": {
      "text/plain": [
       "array([[[12, 19, 14, 13],\n",
       "        [17, 10, 10, 16],\n",
       "        [10, 16, 19, 19]],\n",
       "\n",
       "       [[50, 50, 50, 50],\n",
       "        [50, 50, 50, 50],\n",
       "        [50, 50, 50, 50]],\n",
       "\n",
       "       [[11, 15, 14, 16],\n",
       "        [16, 17, 19, 11],\n",
       "        [11, 17, 19, 11]]])"
      ]
     },
     "execution_count": 108,
     "metadata": {},
     "output_type": "execute_result"
    }
   ],
   "source": [
    "#insert values to an array\n",
    "np.insert(a,1,50, axis=0)"
   ]
  },
  {
   "cell_type": "code",
   "execution_count": 104,
   "id": "063bc4a4-e0eb-4018-b623-da7e948c8546",
   "metadata": {},
   "outputs": [
    {
     "data": {
      "text/plain": [
       "array([[[50, 50, 50, 50],\n",
       "        [12, 19, 14, 13],\n",
       "        [17, 10, 10, 16],\n",
       "        [10, 16, 19, 19]],\n",
       "\n",
       "       [[50, 50, 50, 50],\n",
       "        [11, 15, 14, 16],\n",
       "        [16, 17, 19, 11],\n",
       "        [11, 17, 19, 11]]])"
      ]
     },
     "execution_count": 104,
     "metadata": {},
     "output_type": "execute_result"
    }
   ],
   "source": [
    "np.insert(a,0,50, axis=1)"
   ]
  },
  {
   "cell_type": "code",
   "execution_count": 112,
   "id": "80c9a999-e79e-46e6-92ad-2a9b16e7282f",
   "metadata": {},
   "outputs": [
    {
     "data": {
      "text/plain": [
       "array([[[12, 19, 14, 50, 13],\n",
       "        [17, 10, 10, 50, 16],\n",
       "        [10, 16, 19, 50, 19]],\n",
       "\n",
       "       [[11, 15, 14, 50, 16],\n",
       "        [16, 17, 19, 50, 11],\n",
       "        [11, 17, 19, 50, 11]]])"
      ]
     },
     "execution_count": 112,
     "metadata": {},
     "output_type": "execute_result"
    }
   ],
   "source": [
    "np.insert(a,3,50, axis=2)"
   ]
  },
  {
   "cell_type": "code",
   "execution_count": null,
   "id": "cf497263-1039-4d54-8c7c-10d654bb7485",
   "metadata": {},
   "outputs": [],
   "source": [
    "#APPEND to an array\n",
    "np.append(arr,values,axis)\n",
    "\n",
    ">>arr: Array\n",
    ">>valuse: To be append to an arr. I t must be of the same shape as of arr(excluding axis of appending)\n",
    ">>axis: The axis along which append operation is to be done. If not given, both parameters are flattend."
   ]
  },
  {
   "cell_type": "code",
   "execution_count": 120,
   "id": "1faa51ee-aaed-41e6-8c89-1155fd011300",
   "metadata": {},
   "outputs": [
    {
     "name": "stdout",
     "output_type": "stream",
     "text": [
      "[[[2 4 5]\n",
      "  [2 4 3]\n",
      "  [3 5 3]]\n",
      "\n",
      " [[5 3 5]\n",
      "  [2 4 3]\n",
      "  [4 3 3]]]\n",
      "The shape of Array:\n",
      " (2, 3, 3)\n"
     ]
    }
   ],
   "source": [
    "#creating an array\n",
    "n = np.random.randint(2,6,(2,3,3))\n",
    "print(n)\n",
    "print('The shape of Array:\\n', n.shape)"
   ]
  },
  {
   "cell_type": "code",
   "execution_count": 116,
   "id": "3ebfc574-c946-41bd-b0f5-0a852073bf79",
   "metadata": {},
   "outputs": [
    {
     "data": {
      "text/plain": [
       "array([ 3,  2,  2,  4,  5,  4,  3,  4,  3,  4,  3,  4,  2,  4,  4,  2,  3,\n",
       "        5, 10])"
      ]
     },
     "execution_count": 116,
     "metadata": {},
     "output_type": "execute_result"
    }
   ],
   "source": [
    "#appending to the array\n",
    "np.append(n, 10)"
   ]
  },
  {
   "cell_type": "code",
   "execution_count": 118,
   "id": "bc64a60d-5827-4889-945b-4db6d3261c36",
   "metadata": {},
   "outputs": [
    {
     "name": "stdout",
     "output_type": "stream",
     "text": [
      "[[[3 2 5]]\n",
      "\n",
      " [[4 2 2]]]\n"
     ]
    }
   ],
   "source": [
    "#fix the axis other than axis of appending\n",
    "n = np.random.randint(2,6,(2,1,3))\n",
    "print(n)"
   ]
  },
  {
   "cell_type": "code",
   "execution_count": 122,
   "id": "e81e2723-5089-4e55-a2c4-12e95f606213",
   "metadata": {},
   "outputs": [
    {
     "data": {
      "text/plain": [
       "array([[[2, 4, 5],\n",
       "        [2, 4, 3],\n",
       "        [3, 5, 3],\n",
       "        [2, 4, 5],\n",
       "        [2, 4, 3],\n",
       "        [3, 5, 3]],\n",
       "\n",
       "       [[5, 3, 5],\n",
       "        [2, 4, 3],\n",
       "        [4, 3, 3],\n",
       "        [5, 3, 5],\n",
       "        [2, 4, 3],\n",
       "        [4, 3, 3]]])"
      ]
     },
     "execution_count": 122,
     "metadata": {},
     "output_type": "execute_result"
    }
   ],
   "source": [
    "np.append(n,n,axis=1)"
   ]
  },
  {
   "cell_type": "code",
   "execution_count": null,
   "id": "f740687c-3dc8-451a-8e8e-baf9edb96933",
   "metadata": {},
   "outputs": [],
   "source": [
    "#Delete a element from an array\n",
    "np.delete(arr,values,axis) --> syntax\n",
    ">>arr: Input array\n",
    ">>obj: Can be a slice, an integer or array of untegers, indicating the subarray to be deleted from the input array.\n",
    ">>axis: The axis along which to delete the given sub array.If not given, arr is flattend. \n",
    ">>Returns a copy of arr with the elements specified by obj removed. Note that delete does not occur in-place. If axis is None, out is a flattend array."
   ]
  }
 ],
 "metadata": {
  "kernelspec": {
   "display_name": "Python 3 (ipykernel)",
   "language": "python",
   "name": "python3"
  },
  "language_info": {
   "codemirror_mode": {
    "name": "ipython",
    "version": 3
   },
   "file_extension": ".py",
   "mimetype": "text/x-python",
   "name": "python",
   "nbconvert_exporter": "python",
   "pygments_lexer": "ipython3",
   "version": "3.12.7"
  }
 },
 "nbformat": 4,
 "nbformat_minor": 5
}
